{
 "cells": [
  {
   "cell_type": "code",
   "execution_count": 1,
   "id": "c0542e6e-3e09-40f5-8a80-07b12df2b9b0",
   "metadata": {},
   "outputs": [],
   "source": [
    "import numpy as np\n",
    "import nibabel as nib\n",
    "import os\n",
    "import matplotlib.pyplot as plt\n",
    "import torch\n",
    "import torch.nn as nn\n",
    "import torch.optim as optim\n",
    "import monai\n",
    "from monai.transforms import *\n",
    "from monai.utils import set_determinism\n",
    "from monai.data import Dataset, PatchIterd, GridPatchDataset, CacheDataset, PersistentDataset, DataLoader\n",
    "from monai.transforms import Resample\n",
    "import sys\n",
    "import psutil\n",
    "device = f'cuda:0'"
   ]
  },
  {
   "cell_type": "markdown",
   "id": "eb21a2f1-1d45-42a3-b948-27d9b84a28af",
   "metadata": {},
   "source": [
    "Load all the filenames"
   ]
  },
  {
   "cell_type": "code",
   "execution_count": 2,
   "id": "e7005333-e191-4c29-afbd-40aea39f3aa7",
   "metadata": {},
   "outputs": [],
   "source": [
    "path_X = '/mnt/volume1/hecktor_2022/hecktor2022/imagesTr'\n",
    "path_Y = '/mnt/volume1/hecktor_2022/hecktor2022/labelsTr'\n",
    "files_Y = sorted(os.listdir(path_Y))\n",
    "\n",
    "filenames = []\n",
    "for file_Y in files_Y:\n",
    "    file_CT = file_Y.split('.')[0]+'__CT.nii.gz'\n",
    "    file_PT = file_Y.split('.')[0]+'__PT.nii.gz'\n",
    "    file_GT = file_Y\n",
    "    filenames.append({'CT':f'{path_X}/{file_CT}',\n",
    "                      'PT':f'{path_X}/{file_PT}',\n",
    "                      'GT':f'{path_Y}/{file_GT}'})"
   ]
  },
  {
   "cell_type": "markdown",
   "id": "d7d9ae67-f5db-413c-9b41-312c7c1df0f4",
   "metadata": {},
   "source": [
    "Make the dataset, and define the transformation pipeline. We will resize all images such that axial slices are 128x128, and adjust the CT and GT images using affine matrices to correspond to the PT image.\n",
    "\n",
    "* Note that `ResampleToMatchd` assumes that `data` contains (for each `key` in `['CT', 'GT']` below) a `{key}_meta_dict`  dictionary that contains an `affine` field. That way, both the `CT` and the `GT` image can be resampled to the `PT` image in the `ResampleToMatchd` function in the `transform` below. This requires `image_only=False` when loading the data using `LoadImaged` so that the meta_dict information can be loaded as well.\n",
    "\n",
    "* `bilinear` is used for CT (best interpolation) but `nearest` is used for the GT mask to ensure that the segmentation labels remain discrete"
   ]
  },
  {
   "cell_type": "code",
   "execution_count": 3,
   "id": "5bca357d-d879-48b7-986f-ff4dfa374ecc",
   "metadata": {},
   "outputs": [],
   "source": [
    "fn_keys = ['CT', 'PT', 'GT']\n",
    "CT_min = -525\n",
    "CT_max = 1250\n",
    "transform= Compose([LoadImaged(fn_keys, image_only=False),\n",
    "                    ScaleIntensityRanged('CT', a_min=CT_min, a_max=CT_max, b_min=0, b_max=1, clip=True),\n",
    "                    AddChanneld(fn_keys),\n",
    "                    ResampleToMatchd(['CT', 'GT'],  key_dst='PT', mode=['bilinear', 'nearest']),\n",
    "                    Resized(fn_keys, (128,128,-1)),\n",
    "                    ToTensord(['CT', 'PT'], dtype=torch.float32),\n",
    "                    ToTensord('GT', dtype=torch.long),\n",
    "                    ConcatItemsd(['CT', 'PT'], 'X'),\n",
    "                    DeleteItemsd(['CT', 'PT']),\n",
    "                    Transposed(['X', 'GT'], (3,0,1,2)),\n",
    "                    ToDeviced(['X', 'GT'], device)\n",
    "                    ])"
   ]
  },
  {
   "cell_type": "markdown",
   "id": "2803e121-14e7-4381-bd1f-2d9666250a49",
   "metadata": {},
   "source": [
    "This cache dataset stores all the data in memory, so the pipeline does not need to be executed each training iteration"
   ]
  },
  {
   "cell_type": "code",
   "execution_count": 4,
   "id": "4281f277-a95c-4c4f-b734-0f19aae9a401",
   "metadata": {},
   "outputs": [
    {
     "name": "stderr",
     "output_type": "stream",
     "text": [
      "Loading dataset: 100%|███████████████████████████| 20/20 [01:03<00:00,  3.17s/it]\n"
     ]
    }
   ],
   "source": [
    "ds = CacheDataset(data=filenames[:20], transform=transform)"
   ]
  },
  {
   "cell_type": "markdown",
   "id": "cb1fec4b-9c0b-4215-9d9e-c8d2d091e8b2",
   "metadata": {},
   "source": [
    "Based on the above, should take about 22 minutes to load full data into the cache (neglibible compared to training time). Lets see how much memory this takes up"
   ]
  },
  {
   "cell_type": "code",
   "execution_count": 5,
   "id": "8f62a5fd-d044-4357-800b-d451760e3c8f",
   "metadata": {},
   "outputs": [
    {
     "name": "stdout",
     "output_type": "stream",
     "text": [
      "RAM memory % used: 3.218726912 GB\n",
      "RAM memory % used for total data: 84.33064509440001 GB\n"
     ]
    }
   ],
   "source": [
    "print(f'RAM memory % used: {psutil.virtual_memory()[3]/1e9} GB')\n",
    "print(f'RAM memory % used for total data: {psutil.virtual_memory()[3]/1e9 *len(filenames)/20} GB')"
   ]
  },
  {
   "cell_type": "markdown",
   "id": "33a0c621-f645-4127-965b-62b9e828eee6",
   "metadata": {},
   "source": [
    "For the total dataset, this is totally manageable by the RONIN computers we have (244GB is available with 4GPUs). Now lets make a dataloader:"
   ]
  },
  {
   "cell_type": "code",
   "execution_count": 6,
   "id": "99d08c85-7c5c-4df2-826d-87db6e861f35",
   "metadata": {},
   "outputs": [],
   "source": [
    "dl = DataLoader(ds, batch_size=1, num_workers=0)"
   ]
  },
  {
   "cell_type": "markdown",
   "id": "06262306-e1bb-446c-a11f-a12f14be993b",
   "metadata": {},
   "source": [
    "Define model"
   ]
  },
  {
   "cell_type": "code",
   "execution_count": 7,
   "id": "36fb692d-6d75-4665-a06d-3ccff07756b6",
   "metadata": {},
   "outputs": [],
   "source": [
    "model = monai.networks.nets.UNet(spatial_dims=2, in_channels=2, out_channels=3,\n",
    "                                 channels=(16, 32, 64, 128, 256), strides=(2, 2, 2, 2)).to(device)"
   ]
  },
  {
   "cell_type": "markdown",
   "id": "21905f7b-8e1c-4d5e-a1d2-9eb761cd48ef",
   "metadata": {},
   "source": [
    "Train, looping over individual 2D slices:"
   ]
  },
  {
   "cell_type": "code",
   "execution_count": 8,
   "id": "43d2f3f1-da6a-4ed2-9beb-fa96ff159691",
   "metadata": {},
   "outputs": [],
   "source": [
    "n_epochs=10"
   ]
  },
  {
   "cell_type": "code",
   "execution_count": null,
   "id": "60067101-6467-435d-9a43-5115663904c8",
   "metadata": {},
   "outputs": [
    {
     "name": "stdout",
     "output_type": "stream",
     "text": [
      "Epoch 0\n",
      "Epoch 1\n",
      "Epoch 2\n",
      "Epoch 3\n",
      "Epoch 4\n",
      "Epoch 5\n",
      "Epoch 6\n"
     ]
    }
   ],
   "source": [
    "'''Training'''\n",
    "def train_batch(model, data, optimizer, criterion):\n",
    "    model.train()\n",
    "    x_all, y_all = data['X'][0], data['GT'][0]\n",
    "    total_loss = 0\n",
    "    for x, y in zip(x_all, y_all):\n",
    "        x = x[None]\n",
    "        _y = model(x)\n",
    "        optimizer.zero_grad()\n",
    "        loss = criterion(_y,y)\n",
    "        loss.backward()\n",
    "        optimizer.step()\n",
    "        total_loss += loss.item()\n",
    "    return loss.item()\n",
    "\n",
    "criterion = nn.CrossEntropyLoss(weight=torch.tensor([1.,1.,1.]).to(device))\n",
    "optimizer = optim.Adam(model.parameters(), lr=1e-3)\n",
    "\n",
    "losses = []\n",
    "for ex in range(n_epochs):\n",
    "    N = len(dl)\n",
    "    print(f'Epoch {ex}')\n",
    "    for bx, data in enumerate(dl):\n",
    "        loss = train_batch(model, data, optimizer, criterion)\n",
    "        losses.append(loss)"
   ]
  },
  {
   "cell_type": "markdown",
   "id": "8a336e36-e061-4a29-b33b-942447a25456",
   "metadata": {},
   "source": [
    "# Predictions"
   ]
  },
  {
   "cell_type": "markdown",
   "id": "6b1920f0-43a2-43f2-b677-bc9d524e8e1b",
   "metadata": {},
   "source": [
    "Plot some model predictions"
   ]
  },
  {
   "cell_type": "code",
   "execution_count": null,
   "id": "606d766c-b6d2-44b0-bee2-5732ae016e58",
   "metadata": {},
   "outputs": [],
   "source": [
    "s = 4\n",
    "slc = 54"
   ]
  },
  {
   "cell_type": "code",
   "execution_count": null,
   "id": "1187ce52-9e2d-408a-82c4-d93829d64625",
   "metadata": {},
   "outputs": [],
   "source": [
    "plt.subplots(1,4,figsize=(18,4))\n",
    "plt.subplot(141)\n",
    "plt.pcolormesh(ds[s]['X'][slc][0].cpu())\n",
    "plt.subplot(142)\n",
    "plt.pcolormesh(ds[s]['X'][slc][1].cpu())\n",
    "plt.subplot(143)\n",
    "plt.pcolormesh(ds[s]['GT'][slc][0].cpu())\n",
    "plt.colorbar()\n",
    "plt.subplot(144)\n",
    "plt.pcolormesh(torch.max(model(ds[s]['X'][slc][None]), axis=1).indices.cpu()[0])\n",
    "plt.colorbar()"
   ]
  },
  {
   "cell_type": "code",
   "execution_count": null,
   "id": "0611255b-3e44-4005-8e9a-51eba7d66b62",
   "metadata": {},
   "outputs": [],
   "source": []
  },
  {
   "cell_type": "code",
   "execution_count": null,
   "id": "5e1ed8c5-60b8-4e2f-a8b9-98e081af6579",
   "metadata": {},
   "outputs": [],
   "source": []
  },
  {
   "cell_type": "code",
   "execution_count": null,
   "id": "d20568e1-0398-4423-976f-49623ef11d1d",
   "metadata": {},
   "outputs": [],
   "source": []
  },
  {
   "cell_type": "code",
   "execution_count": null,
   "id": "d425d06a-1489-404e-83bf-a976cc4a64ca",
   "metadata": {},
   "outputs": [],
   "source": []
  },
  {
   "cell_type": "markdown",
   "id": "0ef3169a-e578-45f8-a3cb-9a01728dfa4e",
   "metadata": {},
   "source": [
    "# Extra"
   ]
  },
  {
   "cell_type": "code",
   "execution_count": 171,
   "id": "2bc5b265-01ad-4c30-92f6-8f2a54613148",
   "metadata": {},
   "outputs": [],
   "source": [
    "CT = ds[4]['X'][:,0].cpu()\n",
    "PT = ds[4]['X'][:,1].cpu()\n",
    "GT = ds[4]['GT'][:,0].cpu()"
   ]
  },
  {
   "cell_type": "code",
   "execution_count": 172,
   "id": "33b7e30e-655f-46a9-92b1-bd8bc6ec626d",
   "metadata": {},
   "outputs": [
    {
     "data": {
      "text/plain": [
       "array([0, 1, 2])"
      ]
     },
     "execution_count": 172,
     "metadata": {},
     "output_type": "execute_result"
    }
   ],
   "source": [
    "np.unique(GT)"
   ]
  },
  {
   "cell_type": "code",
   "execution_count": 173,
   "id": "df914360-944f-4007-ae65-8ff1a68d4a6e",
   "metadata": {},
   "outputs": [
    {
     "data": {
      "text/plain": [
       "array([45, 46, 47, 48, 49, 50, 51, 52, 53, 54, 55, 56, 57, 58, 59, 60])"
      ]
     },
     "execution_count": 173,
     "metadata": {},
     "output_type": "execute_result"
    }
   ],
   "source": [
    "np.unique(np.where(GT)[0])"
   ]
  },
  {
   "cell_type": "code",
   "execution_count": 180,
   "id": "6955bb4d-ebc9-4106-827b-5bca111eb1c5",
   "metadata": {},
   "outputs": [
    {
     "data": {
      "text/plain": [
       "<matplotlib.colorbar.Colorbar at 0x7f39a17daa40>"
      ]
     },
     "execution_count": 180,
     "metadata": {},
     "output_type": "execute_result"
    },
    {
     "data": {
      "image/png": "[encoded data removed]",
      "text/plain": [
       "<Figure size 936x360 with 4 Axes>"
      ]
     },
     "metadata": {
      "needs_background": "light"
     },
     "output_type": "display_data"
    }
   ],
   "source": [
    "plt.subplots(1,3,figsize=(13,5))\n",
    "plt.subplot(131)\n",
    "plt.pcolormesh(CT[56])\n",
    "plt.subplot(132)\n",
    "plt.pcolormesh(PT[56])\n",
    "plt.subplot(133)\n",
    "plt.pcolormesh(GT[56])\n",
    "plt.colorbar()"
   ]
  },
  {
   "cell_type": "markdown",
   "id": "49071357-791a-459e-a976-f1e681c3ad56",
   "metadata": {},
   "source": [
    "# Alternative to the Above Using SITK"
   ]
  },
  {
   "cell_type": "code",
   "execution_count": null,
   "id": "8100d521-5be0-4cd8-9619-9157ae165f24",
   "metadata": {},
   "outputs": [],
   "source": [
    "import SimpleITK as sitk"
   ]
  },
  {
   "cell_type": "code",
   "execution_count": null,
   "id": "76c4a181-6a1a-46b2-87e3-27d4f2dba2f4",
   "metadata": {},
   "outputs": [],
   "source": [
    "ctimg = sitk.ReadImage(filenames[2]['CT'], imageIO=\"NiftiImageIO\")\n",
    "ptimg = sitk.ReadImage(filenames[2]['PT'], imageIO=\"NiftiImageIO\") \n",
    "gtimg = sitk.ReadImage(filenames[2]['GT'], imageIO=\"NiftiImageIO\") "
   ]
  },
  {
   "cell_type": "code",
   "execution_count": null,
   "id": "49dea66e-afb8-4a7a-a1d1-57085d070938",
   "metadata": {},
   "outputs": [],
   "source": [
    "resampled_ctimg = sitk.Resample(ctimg, ptimg, interpolator=sitk.sitkLinear, defaultPixelValue=-1024)\n",
    "resampled_gtimg = sitk.Resample(gtimg, ptimg, interpolator=sitk.sitkNearestNeighbor, defaultPixelValue=0)"
   ]
  },
  {
   "cell_type": "code",
   "execution_count": null,
   "id": "be24ee64-82f6-4071-b183-b8b618658e4e",
   "metadata": {},
   "outputs": [],
   "source": [
    "resampled_ctimg"
   ]
  },
  {
   "cell_type": "code",
   "execution_count": 16,
   "id": "98acb030-744e-4b47-9558-519bc231100e",
   "metadata": {},
   "outputs": [],
   "source": [
    "im = sitk.GetArrayFromImage(resampled_ctimg)"
   ]
  },
  {
   "cell_type": "code",
   "execution_count": 20,
   "id": "cde36935-8819-4d66-88c4-0b22cd981a6e",
   "metadata": {},
   "outputs": [
    {
     "data": {
      "text/plain": [
       "<matplotlib.collections.QuadMesh at 0x7fe3191f46d0>"
      ]
     },
     "execution_count": 20,
     "metadata": {},
     "output_type": "execute_result"
    },
    {
     "data": {
      "image/png": "[encoded data removed]",
      "text/plain": [
       "<Figure size 432x288 with 1 Axes>"
      ]
     },
     "metadata": {
      "needs_background": "light"
     },
     "output_type": "display_data"
    }
   ],
   "source": [
    "plt.pcolormesh(im[50])"
   ]
  },
  {
   "cell_type": "code",
   "execution_count": null,
   "id": "98a899e1-c4ce-4434-a849-9a3ddd18f57c",
   "metadata": {},
   "outputs": [],
   "source": []
  }
 ],
 "metadata": {
  "kernelspec": {
   "display_name": "Python 3 (ipykernel)",
   "language": "python",
   "name": "python3"
  },
  "language_info": {
   "codemirror_mode": {
    "name": "ipython",
    "version": 3
   },
   "file_extension": ".py",
   "mimetype": "text/x-python",
   "name": "python",
   "nbconvert_exporter": "python",
   "pygments_lexer": "ipython3",
   "version": "3.10.4"
  }
 },
 "nbformat": 4,
 "nbformat_minor": 5
}
