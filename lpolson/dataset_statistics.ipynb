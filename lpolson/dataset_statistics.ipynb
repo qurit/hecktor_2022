{
 "cells": [
  {
   "cell_type": "code",
   "execution_count": 27,
   "id": "396c0588-3338-4b52-b8ad-8830cecbb4e2",
   "metadata": {},
   "outputs": [],
   "source": [
    "import numpy as np\n",
    "import nibabel as nib\n",
    "import os\n",
    "import matplotlib.pyplot as plt\n",
    "import torch\n",
    "import monai\n",
    "from monai.transforms import *\n",
    "from monai.utils import set_determinism\n",
    "from monai.data import Dataset, PatchIterd, GridPatchDataset, CacheDataset, PersistentDataset, DataLoader\n",
    "import sys\n",
    "import psutil\n",
    "from copy import deepcopy\n",
    "device = f'cpu'"
   ]
  },
  {
   "cell_type": "code",
   "execution_count": 28,
   "id": "248298bf-77f0-4abe-8709-a377829d4b01",
   "metadata": {},
   "outputs": [],
   "source": [
    "path_X = '/mnt/volume1/hecktor_2022/hecktor2022/imagesTr'\n",
    "path_Y = '/mnt/volume1/hecktor_2022/hecktor2022/labelsTr'\n",
    "files_Y = sorted(os.listdir(path_Y))\n",
    "\n",
    "filenames = []\n",
    "for file_Y in files_Y:\n",
    "    file_CT = file_Y.split('.')[0]+'__CT.nii.gz'\n",
    "    file_PT = file_Y.split('.')[0]+'__PT.nii.gz'\n",
    "    file_GT = file_Y\n",
    "    filenames.append({'CT':f'{path_X}/{file_CT}',\n",
    "                      'PT':f'{path_X}/{file_PT}',\n",
    "                      'GT':f'{path_Y}/{file_GT}'})"
   ]
  },
  {
   "cell_type": "code",
   "execution_count": 40,
   "id": "bc74893b-cecc-41d9-ac36-9194e56a1362",
   "metadata": {},
   "outputs": [],
   "source": [
    "fn_keys = ['CT', 'PT', 'GT']\n",
    "\n",
    "transform= Compose([LoadImaged(fn_keys, image_only=True),\n",
    "                    CastToTyped('GT', dtype=torch.long),\n",
    "                          ])"
   ]
  },
  {
   "cell_type": "markdown",
   "id": "ae0687e3-4e14-42fe-8bb2-b981deb603f0",
   "metadata": {},
   "source": [
    "Look at the first 20 images for now"
   ]
  },
  {
   "cell_type": "code",
   "execution_count": 41,
   "id": "8c12a48a-9350-4fdb-adf7-8bdb13f503e9",
   "metadata": {},
   "outputs": [],
   "source": [
    "data=transform(filenames[:20])"
   ]
  },
  {
   "cell_type": "code",
   "execution_count": 42,
   "id": "f0f520a4-a649-456f-ac0d-7c06a6b722b1",
   "metadata": {},
   "outputs": [],
   "source": [
    "GTs = [d['GT'].numpy() for d in data]\n",
    "ratio_1 = [np.sum(GT==1)/GT.size for GT in GTs]\n",
    "ratio_2 = [np.sum(GT==2)/GT.size for GT in GTs]"
   ]
  },
  {
   "cell_type": "code",
   "execution_count": 43,
   "id": "69414afe-3e24-4e49-9eb2-213f7e3fd1cf",
   "metadata": {},
   "outputs": [
    {
     "data": {
      "text/plain": [
       "(array([5., 4., 6., 1., 1., 1., 0., 0., 1., 1.]),\n",
       " array([0.00000000e+00, 5.57766685e-05, 1.11553337e-04, 1.67330006e-04,\n",
       "        2.23106674e-04, 2.78883343e-04, 3.34660011e-04, 3.90436680e-04,\n",
       "        4.46213348e-04, 5.01990017e-04, 5.57766685e-04]),\n",
       " <BarContainer object of 10 artists>)"
      ]
     },
     "execution_count": 43,
     "metadata": {},
     "output_type": "execute_result"
    },
    {
     "data": {
      "image/png": "[encoded data removed]",
      "text/plain": [
       "<Figure size 720x216 with 2 Axes>"
      ]
     },
     "metadata": {
      "needs_background": "light"
     },
     "output_type": "display_data"
    }
   ],
   "source": [
    "plt.subplots(1,2,figsize=(10,3))\n",
    "plt.subplot(121)\n",
    "plt.hist(ratio_1)\n",
    "plt.subplot(122)\n",
    "plt.hist(ratio_2)"
   ]
  }
 ],
 "metadata": {
  "kernelspec": {
   "display_name": "Python 3 (ipykernel)",
   "language": "python",
   "name": "python3"
  },
  "language_info": {
   "codemirror_mode": {
    "name": "ipython",
    "version": 3
   },
   "file_extension": ".py",
   "mimetype": "text/x-python",
   "name": "python",
   "nbconvert_exporter": "python",
   "pygments_lexer": "ipython3",
   "version": "3.10.4"
  }
 },
 "nbformat": 4,
 "nbformat_minor": 5
}
