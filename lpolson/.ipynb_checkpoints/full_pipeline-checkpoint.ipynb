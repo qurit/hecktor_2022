{
 "cells": [
  {
   "cell_type": "code",
   "execution_count": 1,
   "id": "c0542e6e-3e09-40f5-8a80-07b12df2b9b0",
   "metadata": {},
   "outputs": [],
   "source": [
    "import numpy as np\n",
    "import nibabel as nib\n",
    "import os\n",
    "import matplotlib.pyplot as plt\n",
    "import torch\n",
    "import torch.nn as nn\n",
    "import torch.optim as optim\n",
    "from ignite.engine import Events, create_supervised_trainer, create_supervised_evaluator, Engine\n",
    "from ignite.metrics import Accuracy, Loss\n",
    "from ignite.handlers import EarlyStopping, ModelCheckpoint, global_step_from_engine\n",
    "import monai\n",
    "from monai.transforms import *\n",
    "from monai.losses import *\n",
    "from monai.utils import set_determinism\n",
    "from monai.data import Dataset, PatchIterd, GridPatchDataset, CacheDataset, PersistentDataset, DataLoader\n",
    "from monai.transforms import Resample\n",
    "import sys\n",
    "import psutil\n",
    "from copy import deepcopy\n",
    "device = f'cuda:0'"
   ]
  },
  {
   "cell_type": "markdown",
   "id": "eb21a2f1-1d45-42a3-b948-27d9b84a28af",
   "metadata": {},
   "source": [
    "Load all the filenames"
   ]
  },
  {
   "cell_type": "code",
   "execution_count": 2,
   "id": "e7005333-e191-4c29-afbd-40aea39f3aa7",
   "metadata": {},
   "outputs": [],
   "source": [
    "path_X = '/mnt/volume1/hecktor_2022/hecktor2022/imagesTr'\n",
    "path_Y = '/mnt/volume1/hecktor_2022/hecktor2022/labelsTr'\n",
    "files_Y = sorted(os.listdir(path_Y))\n",
    "\n",
    "filenames = []\n",
    "for file_Y in files_Y:\n",
    "    file_CT = file_Y.split('.')[0]+'__CT.nii.gz'\n",
    "    file_PT = file_Y.split('.')[0]+'__PT.nii.gz'\n",
    "    file_GT = file_Y\n",
    "    filenames.append({'CT':f'{path_X}/{file_CT}',\n",
    "                      'PT':f'{path_X}/{file_PT}',\n",
    "                      'GT':f'{path_Y}/{file_GT}'})"
   ]
  },
  {
   "cell_type": "markdown",
   "id": "d7d9ae67-f5db-413c-9b41-312c7c1df0f4",
   "metadata": {},
   "source": [
    "Make the dataset, and define the transformation pipeline. We will resize all images such that axial slices are 128x128, and adjust the CT and GT images using affine matrices to correspond to the PT image.\n",
    "\n",
    "* Note that `ResampleToMatchd` assumes that `data` contains (for each `key` in `['CT', 'GT']` below) a `{key}_meta_dict`  dictionary that contains an `affine` field. That way, both the `CT` and the `GT` image can be resampled to the `PT` image in the `ResampleToMatchd` function in the `transform` below. This requires `image_only=False` when loading the data using `LoadImaged` so that the meta_dict information can be loaded as well.\n",
    "\n",
    "* `bilinear` is used for CT (best interpolation) but `nearest` is used for the GT mask to ensure that the segmentation labels remain discrete"
   ]
  },
  {
   "cell_type": "code",
   "execution_count": 3,
   "id": "f46b1492-98d6-4b96-b8a0-0430cf1abe50",
   "metadata": {},
   "outputs": [],
   "source": [
    "fn_keys = ['CT', 'PT', 'GT']\n",
    "CT_min = -1025\n",
    "CT_max = 1250\n",
    "\n",
    "transform= Compose([LoadImaged(fn_keys, image_only=False),\n",
    "                    ScaleIntensityRanged('CT', a_min=CT_min, a_max=CT_max, b_min=0, b_max=1, clip=True), #clip and scale CT\n",
    "                    ScaleIntensityd('PT', minv=0, maxv=1), #scale PET\n",
    "                    AddChanneld(fn_keys),\n",
    "                    ResampleToMatchd(['CT', 'GT'], key_dst='PT', mode=['bilinear', 'nearest']), #resample CT and GT to match PET\n",
    "                    Resized(fn_keys, (128,128,-1), mode=['area', 'area', 'nearest-exact']),\n",
    "                    Transposed(fn_keys, (3,0,1,2)), #sup/inf axis comes first\n",
    "                    ConcatItemsd(['CT', 'PT'], 'X', dim=1), #concatenate CT and PT into single model input\n",
    "                    DeleteItemsd(['CT', 'PT']), #delete old items to free memory\n",
    "                    CastToTyped('GT', dtype=torch.long),\n",
    "                    ToDeviced(['X', 'GT'], device)\n",
    "                          ])"
   ]
  },
  {
   "cell_type": "markdown",
   "id": "2803e121-14e7-4381-bd1f-2d9666250a49",
   "metadata": {},
   "source": [
    "This cache dataset stores all the data in memory, so the pipeline does not need to be executed each training iteration"
   ]
  },
  {
   "cell_type": "code",
   "execution_count": 4,
   "id": "4281f277-a95c-4c4f-b734-0f19aae9a401",
   "metadata": {},
   "outputs": [
    {
     "name": "stderr",
     "output_type": "stream",
     "text": [
      "Loading dataset: 100%|███████████████████████████| 20/20 [01:01<00:00,  3.08s/it]\n",
      "Loading dataset: 100%|███████████████████████████| 10/10 [00:31<00:00,  3.15s/it]\n"
     ]
    }
   ],
   "source": [
    "ds = CacheDataset(data=filenames[:20], transform=transform)\n",
    "test_ds = CacheDataset(data=filenames[20:30], transform=transform)"
   ]
  },
  {
   "cell_type": "markdown",
   "id": "cb1fec4b-9c0b-4215-9d9e-c8d2d091e8b2",
   "metadata": {},
   "source": [
    "Based on the above, should take about 22 minutes to load full data into the cache (neglibible compared to training time). Lets see how much memory this takes up"
   ]
  },
  {
   "cell_type": "code",
   "execution_count": 5,
   "id": "8f62a5fd-d044-4357-800b-d451760e3c8f",
   "metadata": {},
   "outputs": [
    {
     "name": "stdout",
     "output_type": "stream",
     "text": [
      "RAM memory % used: 3.862560768 GB\n",
      "RAM memory % used for total data: 101.19877017600001 GB\n"
     ]
    }
   ],
   "source": [
    "print(f'RAM memory % used: {psutil.virtual_memory()[3]/1e9} GB')\n",
    "print(f'RAM memory % used for total data: {psutil.virtual_memory()[3]/1e9 *len(filenames)/20} GB')"
   ]
  },
  {
   "cell_type": "markdown",
   "id": "33a0c621-f645-4127-965b-62b9e828eee6",
   "metadata": {},
   "source": [
    "For the total dataset, this is totally manageable by the RONIN computers we have (244GB is available with 4GPUs). Now lets make a dataloader:"
   ]
  },
  {
   "cell_type": "code",
   "execution_count": 6,
   "id": "99d08c85-7c5c-4df2-826d-87db6e861f35",
   "metadata": {},
   "outputs": [],
   "source": [
    "dl = DataLoader(ds, batch_size=1, num_workers=0)\n",
    "test_dl = DataLoader(test_ds, batch_size=1, num_workers=0)"
   ]
  },
  {
   "cell_type": "markdown",
   "id": "06262306-e1bb-446c-a11f-a12f14be993b",
   "metadata": {},
   "source": [
    "Define model"
   ]
  },
  {
   "cell_type": "code",
   "execution_count": 7,
   "id": "36fb692d-6d75-4665-a06d-3ccff07756b6",
   "metadata": {},
   "outputs": [],
   "source": [
    "model = monai.networks.nets.UNet(spatial_dims=2, in_channels=6, out_channels=3,\n",
    "                                 channels=(16, 32, 64, 128, 256), strides=(2, 2, 2, 2)).to(device)"
   ]
  },
  {
   "cell_type": "markdown",
   "id": "21905f7b-8e1c-4d5e-a1d2-9eb761cd48ef",
   "metadata": {},
   "source": [
    "Train, looping over individual 2D slices:"
   ]
  },
  {
   "cell_type": "code",
   "execution_count": 8,
   "id": "43d2f3f1-da6a-4ed2-9beb-fa96ff159691",
   "metadata": {},
   "outputs": [],
   "source": [
    "n_epochs=100"
   ]
  },
  {
   "cell_type": "markdown",
   "id": "03ab4ed0-33e0-43b6-863b-b3ec81cc23f2",
   "metadata": {},
   "source": [
    "Function that is called every train step:"
   ]
  },
  {
   "cell_type": "code",
   "execution_count": 9,
   "id": "de52c9a6-bb4c-47ef-9a25-7a1ccdab3a13",
   "metadata": {},
   "outputs": [],
   "source": [
    "def train_step(engine, batch):\n",
    "    model.train()\n",
    "    x_all, y_all = batch['X'][0], batch['GT'][0]\n",
    "    total_loss = 0\n",
    "    for i in range(1, x_all.shape[0]-1):\n",
    "        x = torch.concat(list(x_all[i-1:i+2]))[None]\n",
    "        y = y_all[i][None]\n",
    "        _y = model(x)\n",
    "        optimizer.zero_grad()\n",
    "        loss = criterion(_y,y)\n",
    "        loss.backward()\n",
    "        optimizer.step()\n",
    "        total_loss += loss.item()\n",
    "    return loss.item()"
   ]
  },
  {
   "cell_type": "markdown",
   "id": "2e29a9b5-3637-4410-8cc5-aab2739163fb",
   "metadata": {},
   "source": [
    "Prepare a batch for validation, consisting of all the axial slices (3 PET, 3 CT) in the entire scan. The shape will be `[H,6,128,128]`. Then, during validation, metrics can be computed across entire images"
   ]
  },
  {
   "cell_type": "code",
   "execution_count": 10,
   "id": "7e74d88a-96a3-4076-9711-2c1fb726e75e",
   "metadata": {},
   "outputs": [],
   "source": [
    "def prepare_batch_fn(batch, device, non_blocking):\n",
    "    X = batch['X'][0]\n",
    "    X_processed = torch.zeros(X.shape[0], 6, X.shape[2], X.shape[3]).to(device) \n",
    "    for i in range(1, X.shape[0]-1):\n",
    "        X_processed[i] = torch.concat(list(X[i-1:i+2]))[None]\n",
    "    return X_processed[1:-1], batch['GT'][0][1:-1]"
   ]
  },
  {
   "cell_type": "markdown",
   "id": "50889128-830a-4ac6-8e8f-fe6e22183835",
   "metadata": {},
   "source": [
    "Optimizer and criteria used during model training:"
   ]
  },
  {
   "cell_type": "code",
   "execution_count": 11,
   "id": "63ec4b30-17f9-4e3b-8718-4e18fd3ba9b2",
   "metadata": {},
   "outputs": [],
   "source": [
    "optimizer = optim.Adam(model.parameters(), lr=1e-3)\n",
    "criterion = DiceCELoss(to_onehot_y=True, lambda_ce=100.,\n",
    "                       ce_weight=torch.tensor([1.,100.,100.]).to(device))\n",
    "\n",
    "\n",
    "metrics = {'Loss': Loss(criterion),\n",
    "          'Dice': Loss(DiceLoss(to_onehot_y=True)),\n",
    "          'CE': Loss(DiceCELoss(to_onehot_y=True, lambda_dice=0, ce_weight=torch.tensor([1.,100.,100.]).to(device)))}"
   ]
  },
  {
   "cell_type": "markdown",
   "id": "de56a0a7-b4bc-4c66-ae20-e365799aaf96",
   "metadata": {},
   "source": [
    "Engine used for training (uses the `train_step` function above)"
   ]
  },
  {
   "cell_type": "code",
   "execution_count": 12,
   "id": "57d5412d-2f5d-4336-b7ba-f8e1e7326cb3",
   "metadata": {},
   "outputs": [],
   "source": [
    "trainer = Engine(train_step)\n",
    "evaluator = create_supervised_evaluator(model, metrics=metrics, device=device,\n",
    "                                        prepare_batch = prepare_batch_fn,\n",
    "                                        output_transform = lambda x, y, _y: (_y, y))"
   ]
  },
  {
   "cell_type": "markdown",
   "id": "b4446ddd-9484-46b6-962b-09f72a1d2653",
   "metadata": {},
   "source": [
    "Save models during training"
   ]
  },
  {
   "cell_type": "code",
   "execution_count": 14,
   "id": "830a57ef-1d10-4575-83cb-c6d6445f5f3f",
   "metadata": {},
   "outputs": [
    {
     "data": {
      "text/plain": [
       "<ignite.engine.events.RemovableEventHandle at 0x7fb8222415d0>"
      ]
     },
     "execution_count": 14,
     "metadata": {},
     "output_type": "execute_result"
    }
   ],
   "source": [
    "'''Early Stopping and saving best models only'''\n",
    "def score_function(engine):\n",
    "    return -engine.state.metrics['Dice']\n",
    "handler = ModelCheckpoint(dirname = f'/mnt/volume1/hecktor_2022/results/models',\n",
    "                           filename_prefix = 'best',\n",
    "                           n_saved=2,\n",
    "                           create_dir=True,\n",
    "                           score_function = score_function,\n",
    "                           global_step_transform = global_step_from_engine(trainer))\n",
    "evaluator.add_event_handler(Events.COMPLETED, handler, {'mymodel': model})"
   ]
  },
  {
   "cell_type": "markdown",
   "id": "ea6a1474-f798-4a66-a9fd-24a6311f792d",
   "metadata": {},
   "source": [
    "Train"
   ]
  },
  {
   "cell_type": "code",
   "execution_count": 15,
   "id": "e74cb45f-2255-4dca-8d1e-ca1445670f62",
   "metadata": {},
   "outputs": [
    {
     "name": "stdout",
     "output_type": "stream",
     "text": [
      "Validation Results - Epoch: 1  Avg loss: 8.05865 \n",
      "\n",
      "Validation Results - Epoch: 2  Avg loss: 8.97181 \n",
      "\n",
      "Validation Results - Epoch: 3  Avg loss: 6.08153 \n",
      "\n",
      "Validation Results - Epoch: 4  Avg loss: 3.59258 \n",
      "\n",
      "Validation Results - Epoch: 5  Avg loss: 2.98621 \n",
      "\n",
      "Validation Results - Epoch: 6  Avg loss: 3.30255 \n",
      "\n",
      "Validation Results - Epoch: 7  Avg loss: 4.63248 \n",
      "\n",
      "Validation Results - Epoch: 8  Avg loss: 4.19467 \n",
      "\n",
      "Validation Results - Epoch: 9  Avg loss: 3.92899 \n",
      "\n",
      "Validation Results - Epoch: 10  Avg loss: 3.29191 \n",
      "\n",
      "Validation Results - Epoch: 11  Avg loss: 4.71478 \n",
      "\n",
      "Validation Results - Epoch: 12  Avg loss: 6.79508 \n",
      "\n",
      "Validation Results - Epoch: 13  Avg loss: 4.18540 \n",
      "\n",
      "Validation Results - Epoch: 14  Avg loss: 3.76145 \n",
      "\n",
      "Validation Results - Epoch: 15  Avg loss: 5.44194 \n",
      "\n",
      "Validation Results - Epoch: 16  Avg loss: 4.23719 \n",
      "\n",
      "Validation Results - Epoch: 17  Avg loss: 5.63686 \n",
      "\n",
      "Validation Results - Epoch: 18  Avg loss: 6.09015 \n",
      "\n",
      "Validation Results - Epoch: 19  Avg loss: 6.39116 \n",
      "\n",
      "Validation Results - Epoch: 20  Avg loss: 5.64054 \n",
      "\n",
      "Validation Results - Epoch: 21  Avg loss: 6.13352 \n",
      "\n",
      "Validation Results - Epoch: 22  Avg loss: 5.75011 \n",
      "\n",
      "Validation Results - Epoch: 23  Avg loss: 6.59606 \n",
      "\n",
      "Validation Results - Epoch: 24  Avg loss: 4.38019 \n",
      "\n",
      "Validation Results - Epoch: 25  Avg loss: 6.14932 \n",
      "\n",
      "Validation Results - Epoch: 26  Avg loss: 9.53456 \n",
      "\n",
      "Validation Results - Epoch: 27  Avg loss: 6.70954 \n",
      "\n",
      "Validation Results - Epoch: 28  Avg loss: 4.04845 \n",
      "\n",
      "Validation Results - Epoch: 29  Avg loss: 7.18793 \n",
      "\n",
      "Validation Results - Epoch: 30  Avg loss: 9.15180 \n",
      "\n",
      "Validation Results - Epoch: 31  Avg loss: 5.66885 \n",
      "\n",
      "Validation Results - Epoch: 32  Avg loss: 6.16856 \n",
      "\n",
      "Validation Results - Epoch: 33  Avg loss: 7.33194 \n",
      "\n",
      "Validation Results - Epoch: 34  Avg loss: 5.06776 \n",
      "\n",
      "Validation Results - Epoch: 35  Avg loss: 8.52892 \n",
      "\n",
      "Validation Results - Epoch: 36  Avg loss: 10.11874 \n",
      "\n",
      "Validation Results - Epoch: 37  Avg loss: 9.71695 \n",
      "\n",
      "Validation Results - Epoch: 38  Avg loss: 6.22417 \n",
      "\n",
      "Validation Results - Epoch: 39  Avg loss: 9.04069 \n",
      "\n",
      "Validation Results - Epoch: 40  Avg loss: 5.11470 \n",
      "\n",
      "Validation Results - Epoch: 41  Avg loss: 5.84786 \n",
      "\n",
      "Validation Results - Epoch: 42  Avg loss: 8.63146 \n",
      "\n",
      "Validation Results - Epoch: 43  Avg loss: 6.91401 \n",
      "\n",
      "Validation Results - Epoch: 44  Avg loss: 8.44429 \n",
      "\n",
      "Validation Results - Epoch: 45  Avg loss: 10.36735 \n",
      "\n",
      "Validation Results - Epoch: 46  Avg loss: 9.45796 \n",
      "\n",
      "Validation Results - Epoch: 47  Avg loss: 6.60245 \n",
      "\n",
      "Validation Results - Epoch: 48  Avg loss: 10.93483 \n",
      "\n",
      "Validation Results - Epoch: 49  Avg loss: 7.40482 \n",
      "\n",
      "Validation Results - Epoch: 50  Avg loss: 11.04528 \n",
      "\n",
      "Validation Results - Epoch: 51  Avg loss: 8.77653 \n",
      "\n",
      "Validation Results - Epoch: 52  Avg loss: 8.99860 \n",
      "\n",
      "Validation Results - Epoch: 53  Avg loss: 8.40392 \n",
      "\n",
      "Validation Results - Epoch: 54  Avg loss: 12.17279 \n",
      "\n",
      "Validation Results - Epoch: 55  Avg loss: 10.28621 \n",
      "\n",
      "Validation Results - Epoch: 56  Avg loss: 6.58333 \n",
      "\n",
      "Validation Results - Epoch: 57  Avg loss: 8.74112 \n",
      "\n",
      "Validation Results - Epoch: 58  Avg loss: 12.93519 \n",
      "\n",
      "Validation Results - Epoch: 59  Avg loss: 11.92975 \n",
      "\n",
      "Validation Results - Epoch: 60  Avg loss: 10.15332 \n",
      "\n",
      "Validation Results - Epoch: 61  Avg loss: 7.79019 \n",
      "\n",
      "Validation Results - Epoch: 62  Avg loss: 10.48318 \n",
      "\n",
      "Validation Results - Epoch: 63  Avg loss: 7.94632 \n",
      "\n",
      "Validation Results - Epoch: 64  Avg loss: 9.23015 \n",
      "\n",
      "Validation Results - Epoch: 65  Avg loss: 12.28319 \n",
      "\n",
      "Validation Results - Epoch: 66  Avg loss: 8.03184 \n",
      "\n",
      "Validation Results - Epoch: 67  Avg loss: 6.53357 \n",
      "\n",
      "Validation Results - Epoch: 68  Avg loss: 10.92102 \n",
      "\n",
      "Validation Results - Epoch: 69  Avg loss: 6.80537 \n",
      "\n",
      "Validation Results - Epoch: 70  Avg loss: 8.16828 \n",
      "\n",
      "Validation Results - Epoch: 71  Avg loss: 10.50728 \n",
      "\n",
      "Validation Results - Epoch: 72  Avg loss: 13.12958 \n",
      "\n",
      "Validation Results - Epoch: 73  Avg loss: 14.92997 \n",
      "\n",
      "Validation Results - Epoch: 74  Avg loss: 10.63323 \n",
      "\n",
      "Validation Results - Epoch: 75  Avg loss: 10.31761 \n",
      "\n",
      "Validation Results - Epoch: 76  Avg loss: 10.35736 \n",
      "\n",
      "Validation Results - Epoch: 77  Avg loss: 10.41139 \n",
      "\n",
      "Validation Results - Epoch: 78  Avg loss: 14.47870 \n",
      "\n",
      "Validation Results - Epoch: 79  Avg loss: 12.47658 \n",
      "\n",
      "Validation Results - Epoch: 80  Avg loss: 14.78731 \n",
      "\n",
      "Validation Results - Epoch: 81  Avg loss: 9.08289 \n",
      "\n",
      "Validation Results - Epoch: 82  Avg loss: 12.66133 \n",
      "\n",
      "Validation Results - Epoch: 83  Avg loss: 8.91435 \n",
      "\n",
      "Validation Results - Epoch: 84  Avg loss: 9.55565 \n",
      "\n",
      "Validation Results - Epoch: 85  Avg loss: 8.94127 \n",
      "\n",
      "Validation Results - Epoch: 86  Avg loss: 10.10395 \n",
      "\n",
      "Validation Results - Epoch: 87  Avg loss: 12.14747 \n",
      "\n",
      "Validation Results - Epoch: 88  Avg loss: 14.87738 \n",
      "\n",
      "Validation Results - Epoch: 89  Avg loss: 12.30243 \n",
      "\n",
      "Validation Results - Epoch: 90  Avg loss: 16.39741 \n",
      "\n",
      "Validation Results - Epoch: 91  Avg loss: 8.99682 \n",
      "\n",
      "Validation Results - Epoch: 92  Avg loss: 6.96491 \n",
      "\n",
      "Validation Results - Epoch: 93  Avg loss: 17.10176 \n",
      "\n",
      "Validation Results - Epoch: 94  Avg loss: 18.69991 \n",
      "\n",
      "Validation Results - Epoch: 95  Avg loss: 15.87202 \n",
      "\n",
      "Validation Results - Epoch: 96  Avg loss: 9.47122 \n",
      "\n",
      "Validation Results - Epoch: 97  Avg loss: 8.76482 \n",
      "\n",
      "Validation Results - Epoch: 98  Avg loss: 13.75402 \n",
      "\n",
      "Validation Results - Epoch: 99  Avg loss: 7.44897 \n",
      "\n",
      "Validation Results - Epoch: 100  Avg loss: 17.15432 \n",
      "\n"
     ]
    },
    {
     "data": {
      "text/plain": [
       "State:\n",
       "\titeration: 2000\n",
       "\tepoch: 100\n",
       "\tepoch_length: 20\n",
       "\tmax_epochs: 100\n",
       "\toutput: 0.36190304160118103\n",
       "\tbatch: <class 'dict'>\n",
       "\tmetrics: <class 'dict'>\n",
       "\tdataloader: <class 'monai.data.dataloader.DataLoader'>\n",
       "\tseed: <class 'NoneType'>\n",
       "\ttimes: <class 'dict'>"
      ]
     },
     "execution_count": 15,
     "metadata": {},
     "output_type": "execute_result"
    }
   ],
   "source": [
    "trn_losses = []\n",
    "val_losses = {key: [] for key in metrics.keys()}\n",
    "\n",
    "@trainer.on(Events.ITERATION_COMPLETED(every=1))\n",
    "def log_training_loss(trainer, verbose=False):\n",
    "    trn_losses.append(trainer.state.output)\n",
    "    if verbose: print(f\"Epoch[{trainer.state.epoch}] Loss: {trainer.state.output:.8f}\", end='\\r')\n",
    "    \n",
    "@trainer.on(Events.EPOCH_COMPLETED)\n",
    "def log_validation_results(trainer):\n",
    "    evaluator.run(test_dl)\n",
    "    computed_metrics = evaluator.state.metrics\n",
    "    for key in metrics.keys():\n",
    "        val_losses[key].append(computed_metrics[key])\n",
    "    print(f\"Validation Results - Epoch: {trainer.state.epoch}  Avg loss: {computed_metrics['Loss']:.5f} \\n\")\n",
    "    \n",
    "trainer.run(dl, max_epochs=n_epochs)"
   ]
  },
  {
   "cell_type": "markdown",
   "id": "8a336e36-e061-4a29-b33b-942447a25456",
   "metadata": {},
   "source": [
    "# Predictions"
   ]
  },
  {
   "cell_type": "markdown",
   "id": "d829fe06-21b0-4743-86b0-a3be64b2a7e8",
   "metadata": {},
   "source": [
    "We use the `Invertd` to apply the inverse of all the invertible transforms applied to `GT` in the `transform` pipeline above"
   ]
  },
  {
   "cell_type": "code",
   "execution_count": 16,
   "id": "b36b49a7-ae75-47f8-b4e6-f8b5dbd06801",
   "metadata": {},
   "outputs": [],
   "source": [
    "transform_inverse = Compose([Transposed('GTp', (1,0,2,3)), #first three transforms are to get argmax along 1st (channel in this case) axis\n",
    "                             AsDiscreted('GTp', argmax=True),\n",
    "                             Transposed('GTp', (1,0,2,3)),\n",
    "                             Invertd(keys='GTp', transform=transform, orig_keys='GT', allow_missing_keys=True), #invert all spatial transforms on predicted GT\n",
    "                             SqueezeDimd('GTp', dim=0),\n",
    "                            ])"
   ]
  },
  {
   "cell_type": "markdown",
   "id": "9a0bcf4c-63f6-4545-b90f-3ac0f0d91b89",
   "metadata": {},
   "source": [
    "Predict a sample data point"
   ]
  },
  {
   "cell_type": "code",
   "execution_count": 17,
   "id": "9b887032-b049-4f96-94c0-6bec44e2b321",
   "metadata": {},
   "outputs": [],
   "source": [
    "def model_prediction(model, X, model_type='2D'):\n",
    "    if model_type=='2.5D':\n",
    "        y_new = torch.zeros((X.shape[0], 3, X.shape[2], X.shape[3]))\n",
    "        for i in range(1, X.shape[0]-1):\n",
    "            y_new[i] = model(torch.concat(list(X[i-1:i+2]))[None])\n",
    "        return y_new"
   ]
  },
  {
   "cell_type": "code",
   "execution_count": 18,
   "id": "edc0ae40-3f8c-4769-ba5a-4cd8c34aa41c",
   "metadata": {},
   "outputs": [],
   "source": [
    "data = transform(filenames[4])\n",
    "data['GTp'] = model_prediction(model, data['X'], model_type='2.5D')\n",
    "_y = transform_inverse(data)['GTp']\n",
    "raw = LoadImaged(fn_keys)(filenames[4])\n",
    "y, CT, GT = raw['GT'], raw['CT'], raw['PT']"
   ]
  },
  {
   "cell_type": "markdown",
   "id": "2aebc168-9d9b-4ca1-93f7-cfe60648047b",
   "metadata": {},
   "source": [
    "And plot in the CT image space (this is how our submission need to be given):"
   ]
  },
  {
   "cell_type": "code",
   "execution_count": 19,
   "id": "614c108d-226e-4e23-8609-327a0764b69d",
   "metadata": {},
   "outputs": [
    {
     "data": {
      "text/plain": [
       "<matplotlib.collections.QuadMesh at 0x7fb6a4914f40>"
      ]
     },
     "execution_count": 19,
     "metadata": {},
     "output_type": "execute_result"
    },
    {
     "data": {
      "image/png": "[encoded data removed]",
      "text/plain": [
       "<Figure size 432x288 with 2 Axes>"
      ]
     },
     "metadata": {
      "needs_background": "light"
     },
     "output_type": "display_data"
    }
   ],
   "source": [
    "plt.subplots(1,2)\n",
    "plt.subplot(121)\n",
    "plt.pcolormesh(y[:,:,153].cpu())\n",
    "plt.subplot(122)\n",
    "plt.pcolormesh(_y[:,:,153].cpu())"
   ]
  },
  {
   "cell_type": "markdown",
   "id": "eb5cc75e-a393-46aa-8556-ddfe397ae176",
   "metadata": {},
   "source": [
    "Alternatively, can plot in the PET image space:"
   ]
  },
  {
   "cell_type": "code",
   "execution_count": 508,
   "id": "659c3a37-694a-47bd-9eed-e395a5afcb43",
   "metadata": {},
   "outputs": [],
   "source": [
    "s = 4\n",
    "slc = 53"
   ]
  },
  {
   "cell_type": "code",
   "execution_count": 509,
   "id": "1187ce52-9e2d-408a-82c4-d93829d64625",
   "metadata": {},
   "outputs": [
    {
     "data": {
      "text/plain": [
       "<matplotlib.colorbar.Colorbar at 0x7f3545208130>"
      ]
     },
     "execution_count": 509,
     "metadata": {},
     "output_type": "execute_result"
    },
    {
     "data": {
      "image/png": "[encoded data removed]",
      "text/plain": [
       "<Figure size 1296x288 with 6 Axes>"
      ]
     },
     "metadata": {
      "needs_background": "light"
     },
     "output_type": "display_data"
    }
   ],
   "source": [
    "plt.subplots(1,4,figsize=(18,4))\n",
    "plt.subplot(141)\n",
    "plt.title('CT')\n",
    "plt.pcolormesh(data['X'][slc][0].cpu())\n",
    "plt.subplot(142)\n",
    "plt.title('PT')\n",
    "plt.pcolormesh(data['X'][slc][1].cpu())\n",
    "plt.subplot(143)\n",
    "plt.title('True Mask')\n",
    "plt.pcolormesh(data['GT'][slc][0].cpu())\n",
    "plt.colorbar()\n",
    "plt.subplot(144)\n",
    "plt.title('Predicted Mask')\n",
    "plt.pcolormesh(torch.argmax(data['GTp'], axis=1)[slc].cpu())\n",
    "plt.colorbar()"
   ]
  },
  {
   "cell_type": "code",
   "execution_count": null,
   "id": "0611255b-3e44-4005-8e9a-51eba7d66b62",
   "metadata": {},
   "outputs": [],
   "source": []
  },
  {
   "cell_type": "code",
   "execution_count": null,
   "id": "5e1ed8c5-60b8-4e2f-a8b9-98e081af6579",
   "metadata": {},
   "outputs": [],
   "source": []
  },
  {
   "cell_type": "code",
   "execution_count": null,
   "id": "d20568e1-0398-4423-976f-49623ef11d1d",
   "metadata": {},
   "outputs": [],
   "source": []
  },
  {
   "cell_type": "code",
   "execution_count": null,
   "id": "d425d06a-1489-404e-83bf-a976cc4a64ca",
   "metadata": {},
   "outputs": [],
   "source": []
  },
  {
   "cell_type": "markdown",
   "id": "0ef3169a-e578-45f8-a3cb-9a01728dfa4e",
   "metadata": {},
   "source": [
    "# Extra"
   ]
  },
  {
   "cell_type": "code",
   "execution_count": 171,
   "id": "2bc5b265-01ad-4c30-92f6-8f2a54613148",
   "metadata": {},
   "outputs": [],
   "source": [
    "CT = ds[4]['X'][:,0].cpu()\n",
    "PT = ds[4]['X'][:,1].cpu()\n",
    "GT = ds[4]['GT'][:,0].cpu()"
   ]
  },
  {
   "cell_type": "code",
   "execution_count": 172,
   "id": "33b7e30e-655f-46a9-92b1-bd8bc6ec626d",
   "metadata": {},
   "outputs": [
    {
     "data": {
      "text/plain": [
       "array([0, 1, 2])"
      ]
     },
     "execution_count": 172,
     "metadata": {},
     "output_type": "execute_result"
    }
   ],
   "source": [
    "np.unique(GT)"
   ]
  },
  {
   "cell_type": "code",
   "execution_count": 173,
   "id": "df914360-944f-4007-ae65-8ff1a68d4a6e",
   "metadata": {},
   "outputs": [
    {
     "data": {
      "text/plain": [
       "array([45, 46, 47, 48, 49, 50, 51, 52, 53, 54, 55, 56, 57, 58, 59, 60])"
      ]
     },
     "execution_count": 173,
     "metadata": {},
     "output_type": "execute_result"
    }
   ],
   "source": [
    "np.unique(np.where(GT)[0])"
   ]
  },
  {
   "cell_type": "code",
   "execution_count": 180,
   "id": "6955bb4d-ebc9-4106-827b-5bca111eb1c5",
   "metadata": {},
   "outputs": [
    {
     "data": {
      "text/plain": [
       "<matplotlib.colorbar.Colorbar at 0x7f39a17daa40>"
      ]
     },
     "execution_count": 180,
     "metadata": {},
     "output_type": "execute_result"
    },
    {
     "data": {
      "image/png": "[encoded data removed]",
      "text/plain": [
       "<Figure size 936x360 with 4 Axes>"
      ]
     },
     "metadata": {
      "needs_background": "light"
     },
     "output_type": "display_data"
    }
   ],
   "source": [
    "plt.subplots(1,3,figsize=(13,5))\n",
    "plt.subplot(131)\n",
    "plt.pcolormesh(CT[56])\n",
    "plt.subplot(132)\n",
    "plt.pcolormesh(PT[56])\n",
    "plt.subplot(133)\n",
    "plt.pcolormesh(GT[56])\n",
    "plt.colorbar()"
   ]
  },
  {
   "cell_type": "markdown",
   "id": "49071357-791a-459e-a976-f1e681c3ad56",
   "metadata": {},
   "source": [
    "# Alternative to the Above Using SITK"
   ]
  },
  {
   "cell_type": "code",
   "execution_count": null,
   "id": "8100d521-5be0-4cd8-9619-9157ae165f24",
   "metadata": {},
   "outputs": [],
   "source": [
    "import SimpleITK as sitk"
   ]
  },
  {
   "cell_type": "code",
   "execution_count": null,
   "id": "76c4a181-6a1a-46b2-87e3-27d4f2dba2f4",
   "metadata": {},
   "outputs": [],
   "source": [
    "ctimg = sitk.ReadImage(filenames[2]['CT'], imageIO=\"NiftiImageIO\")\n",
    "ptimg = sitk.ReadImage(filenames[2]['PT'], imageIO=\"NiftiImageIO\") \n",
    "gtimg = sitk.ReadImage(filenames[2]['GT'], imageIO=\"NiftiImageIO\") "
   ]
  },
  {
   "cell_type": "code",
   "execution_count": null,
   "id": "49dea66e-afb8-4a7a-a1d1-57085d070938",
   "metadata": {},
   "outputs": [],
   "source": [
    "resampled_ctimg = sitk.Resample(ctimg, ptimg, interpolator=sitk.sitkLinear, defaultPixelValue=-1024)\n",
    "resampled_gtimg = sitk.Resample(gtimg, ptimg, interpolator=sitk.sitkNearestNeighbor, defaultPixelValue=0)"
   ]
  },
  {
   "cell_type": "code",
   "execution_count": null,
   "id": "be24ee64-82f6-4071-b183-b8b618658e4e",
   "metadata": {},
   "outputs": [],
   "source": [
    "resampled_ctimg"
   ]
  },
  {
   "cell_type": "code",
   "execution_count": 16,
   "id": "98acb030-744e-4b47-9558-519bc231100e",
   "metadata": {},
   "outputs": [],
   "source": [
    "im = sitk.GetArrayFromImage(resampled_ctimg)"
   ]
  },
  {
   "cell_type": "code",
   "execution_count": 20,
   "id": "cde36935-8819-4d66-88c4-0b22cd981a6e",
   "metadata": {},
   "outputs": [
    {
     "data": {
      "text/plain": [
       "<matplotlib.collections.QuadMesh at 0x7fe3191f46d0>"
      ]
     },
     "execution_count": 20,
     "metadata": {},
     "output_type": "execute_result"
    },
    {
     "data": {
      "image/png": "[encoded data removed]",
      "text/plain": [
       "<Figure size 432x288 with 1 Axes>"
      ]
     },
     "metadata": {
      "needs_background": "light"
     },
     "output_type": "display_data"
    }
   ],
   "source": [
    "plt.pcolormesh(im[50])"
   ]
  },
  {
   "cell_type": "code",
   "execution_count": null,
   "id": "98a899e1-c4ce-4434-a849-9a3ddd18f57c",
   "metadata": {},
   "outputs": [],
   "source": []
  }
 ],
 "metadata": {
  "kernelspec": {
   "display_name": "Python 3 (ipykernel)",
   "language": "python",
   "name": "python3"
  },
  "language_info": {
   "codemirror_mode": {
    "name": "ipython",
    "version": 3
   },
   "file_extension": ".py",
   "mimetype": "text/x-python",
   "name": "python",
   "nbconvert_exporter": "python",
   "pygments_lexer": "ipython3",
   "version": "3.10.4"
  }
 },
 "nbformat": 4,
 "nbformat_minor": 5
}
